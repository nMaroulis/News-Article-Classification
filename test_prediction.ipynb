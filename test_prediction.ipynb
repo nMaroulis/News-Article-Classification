{
 "cells": [
  {
   "cell_type": "code",
   "execution_count": 2,
   "metadata": {},
   "outputs": [],
   "source": [
    "import pandas as pd\n",
    "import matplotlib.pyplot as plt\n",
    "import numpy as np\n",
    "import sys, io, os, errno, fileinput, csv\n",
    "import collections as cl\n",
    "from os import path\n",
    "from sklearn.feature_extraction.text import TfidfTransformer\n",
    "from sklearn.feature_extraction.text import CountVectorizer\n",
    "from sklearn.pipeline import Pipeline\n",
    "from sklearn import svm\n",
    "\n",
    "trainset_file = \"./datasets/train_set.csv\"\n",
    "train_df = pd.read_csv(trainset_file,  sep='\\t')\n",
    "\n",
    "testset_file = \"./datasets/test_set.csv\"\n",
    "test_df = pd.read_csv(testset_file,  sep='\\t')\n",
    "\n",
    "output_file = \"./datasets/testSet_categories.csv\"\n",
    "\n",
    "\n",
    "try:\n",
    "    os.remove(output_file)\n",
    "except OSError:\n",
    "    pass\n",
    "\n",
    "\n",
    "\n",
    "beat_the_benchmark_model = Pipeline([\n",
    "    ('vect', CountVectorizer(analyzer='word', stop_words='english', lowercase=True)),\n",
    "    ('tfidf', TfidfTransformer()),\n",
    "    ('svm', svm.SVC(kernel='linear', C=0.92, decision_function_shape='ovr')),])\n",
    "\n",
    "\n",
    "\"\"\"\n",
    "Now uses all the training set for training\n",
    "\"\"\"\n",
    "train_X = train_df['Content']\n",
    "train_Y = train_df['Category']\n",
    "\n",
    "test_X = test_df['Content']\n",
    "\n",
    "    \n",
    "_ = beat_the_benchmark_model.fit(train_X, train_Y)\n",
    "predicted = beat_the_benchmark_model.predict(test_X)\n",
    "\n",
    "test_df['Predicted_Category'] = predicted"
   ]
  },
  {
   "cell_type": "markdown",
   "metadata": {},
   "source": [
    "__Create the testSet_categories.csv with the predicted Labels__"
   ]
  },
  {
   "cell_type": "code",
   "execution_count": 5,
   "metadata": {},
   "outputs": [],
   "source": [
    "test_df['Predicted_Category'] = predicted"
   ]
  },
  {
   "cell_type": "code",
   "execution_count": 6,
   "metadata": {},
   "outputs": [],
   "source": [
    "with open(output_file, mode='w') as csv_file:\n",
    "    writer = csv.DictWriter(csv_file, fieldnames=['Test_Document_ID', 'Predicted_Category'], delimiter='\\t')\n",
    "    writer.writeheader()\n",
    "    \n",
    "    for index, row in test_df.iterrows():\n",
    "        writer.writerow({'Test_Document_ID': row['Id'], 'Predicted_Category': row['Predicted_Category']})"
   ]
  }
 ],
 "metadata": {
  "kernelspec": {
   "display_name": "Python 3",
   "language": "python",
   "name": "python3"
  },
  "language_info": {
   "codemirror_mode": {
    "name": "ipython",
    "version": 3
   },
   "file_extension": ".py",
   "mimetype": "text/x-python",
   "name": "python",
   "nbconvert_exporter": "python",
   "pygments_lexer": "ipython3",
   "version": "3.6.7"
  }
 },
 "nbformat": 4,
 "nbformat_minor": 2
}
