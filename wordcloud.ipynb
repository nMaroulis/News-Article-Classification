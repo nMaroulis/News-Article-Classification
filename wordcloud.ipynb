{
 "cells": [
  {
   "cell_type": "code",
   "execution_count": 1,
   "metadata": {},
   "outputs": [],
   "source": [
    "import pandas as pd\n",
    "import matplotlib.pyplot as plt\n",
    "import numpy as np\n",
    "import sys\n",
    "import csv\n",
    "import io, os, errno\n",
    "import fileinput\n",
    "import collections as cl\n",
    "from os import path\n",
    "from wordcloud import WordCloud\n",
    "import nltk\n",
    "#nltk.download(\"stopwords\")\n",
    "from nltk.corpus import stopwords \n",
    "#from nltk.tokenize import word_tokenize \n",
    "\n",
    "stop_words = set(stopwords.words('english'))\n",
    "\n",
    "#stop_words.add(\"said\")\n",
    "\n",
    "business_path = \"./datasets/wordcloud_business.txt\"\n",
    "film_path = \"./datasets/wordcloud_film.txt\"\n",
    "football_path = \"./datasets/wordcloud_football.txt\"\n",
    "politics_path = \"./datasets/wordcloud_politics.txt\"\n",
    "technology_path = \"./datasets/wordcloud_technology.txt\"\n",
    "\n",
    "def delete_wordcloud_file(file_path):\n",
    "    try:\n",
    "        os.remove(file_path)\n",
    "    except OSError:\n",
    "        pass\n",
    "\n",
    "delete_wordcloud_file(business_path)\n",
    "delete_wordcloud_file(film_path)\n",
    "delete_wordcloud_file(football_path)\n",
    "delete_wordcloud_file(politics_path)\n",
    "delete_wordcloud_file(technology_path)\n",
    "\n",
    "wordcloud_business = open(business_path, \"w\")\n",
    "wordcloud_film = open(film_path, \"w\")\n",
    "wordcloud_football = open(football_path, \"w\")\n",
    "wordcloud_politics = open(politics_path, \"w\")\n",
    "wordcloud_technology = open(technology_path, \"w\")\n",
    "\n",
    "trainset_file = \"./datasets/train_set.csv\"\n",
    "testset_file = \"./datasets/test_set.csv\"\n",
    "\n",
    "train_df = pd.read_csv(trainset_file,  sep='\\t')"
   ]
  },
  {
   "cell_type": "code",
   "execution_count": 2,
   "metadata": {},
   "outputs": [
    {
     "name": "stdout",
     "output_type": "stream",
     "text": [
      "Mean # of words in each category  Counter({'Politics': 2148114, 'Football': 1907737, 'Business': 1759077, 'Film': 1615972, 'Technology': 1160208})\n"
     ]
    }
   ],
   "source": [
    "train_df.groupby('Category').size()\n",
    "\n",
    "# count the mean of the number of words in each category\n",
    "c = cl.Counter() \n",
    "for index, row in train_df.iterrows():\n",
    "    c[row[4]] += len(row[3].split())\n",
    "print ('Mean # of words in each category ', c)"
   ]
  },
  {
   "cell_type": "code",
   "execution_count": 3,
   "metadata": {},
   "outputs": [],
   "source": [
    "def generate_wordcloud_txt(df, txt):\n",
    "    for index, row in df.iterrows():\n",
    "    \n",
    "        filtered_sentence = [w for w in row[3].split() if not w in stop_words] \n",
    "        txt.write(\" \".join(str(x) for x in filtered_sentence))\n",
    "        \n",
    "        \n",
    "def generate_wordcloud_image(txt_path):\n",
    "\n",
    "    text = open(txt_path).read()\n",
    "    # Generate a word cloud image\n",
    "    # wordcloud = WordCloud().generate(text)\n",
    "    # plt.imshow(wordcloud, interpolation='bilinear')\n",
    "    # plt.axis(\"off\")\n",
    "    # lower max_font_size\n",
    "    wordcloud = WordCloud(max_font_size=40).generate(text)\n",
    "    plt.figure()\n",
    "    plt.imshow(wordcloud, interpolation=\"bilinear\")\n",
    "    plt.axis(\"off\")\n",
    "    plt.show()"
   ]
  },
  {
   "cell_type": "code",
   "execution_count": 4,
   "metadata": {},
   "outputs": [],
   "source": [
    "generate_wordcloud_txt(train_df[(train_df['Category'] == \"Business\")] , wordcloud_business)\n",
    "wordcloud_business.close()\n",
    "generate_wordcloud_txt(train_df[(train_df['Category'] == \"Film\")] , wordcloud_film)\n",
    "wordcloud_film.close()\n",
    "generate_wordcloud_txt(train_df[(train_df['Category'] == \"Football\")] , wordcloud_football)\n",
    "wordcloud_football.close()\n",
    "generate_wordcloud_txt(train_df[(train_df['Category'] == \"Politics\")] , wordcloud_politics)\n",
    "wordcloud_politics.close()\n",
    "generate_wordcloud_txt(train_df[(train_df['Category'] == \"Technology\")] , wordcloud_technology)\n",
    "wordcloud_technology.close()"
   ]
  },
  {
   "cell_type": "code",
   "execution_count": 5,
   "metadata": {},
   "outputs": [],
   "source": [
    "generate_wordcloud_image(technology_path)\n",
    "generate_wordcloud_image(politics_path)\n",
    "generate_wordcloud_image(football_path)\n",
    "generate_wordcloud_image(film_path)\n",
    "generate_wordcloud_image(business_path)"
   ]
  },
  {
   "cell_type": "code",
   "execution_count": null,
   "metadata": {},
   "outputs": [],
   "source": []
  }
 ],
 "metadata": {
  "kernelspec": {
   "display_name": "Python 3",
   "language": "python",
   "name": "python3"
  },
  "language_info": {
   "codemirror_mode": {
    "name": "ipython",
    "version": 3
   },
   "file_extension": ".py",
   "mimetype": "text/x-python",
   "name": "python",
   "nbconvert_exporter": "python",
   "pygments_lexer": "ipython3",
   "version": "3.6.7"
  }
 },
 "nbformat": 4,
 "nbformat_minor": 1
}
